{
 "cells": [
  {
   "cell_type": "markdown",
   "metadata": {},
   "source": [
    "# Ejercicios sobre Pandas"
   ]
  },
  {
   "cell_type": "code",
   "execution_count": 1,
   "metadata": {},
   "outputs": [],
   "source": [
    "import pandas as pd\n",
    "import numpy as np"
   ]
  },
  {
   "cell_type": "code",
   "execution_count": 2,
   "metadata": {},
   "outputs": [],
   "source": [
    "df_accidentes = pd.read_csv('Nuclear_Incidents.csv', thousands=\",\")"
   ]
  },
  {
   "cell_type": "code",
   "execution_count": 3,
   "metadata": {},
   "outputs": [
    {
     "data": {
      "text/html": [
       "<div>\n",
       "<style scoped>\n",
       "    .dataframe tbody tr th:only-of-type {\n",
       "        vertical-align: middle;\n",
       "    }\n",
       "\n",
       "    .dataframe tbody tr th {\n",
       "        vertical-align: top;\n",
       "    }\n",
       "\n",
       "    .dataframe thead th {\n",
       "        text-align: right;\n",
       "    }\n",
       "</style>\n",
       "<table border=\"1\" class=\"dataframe\">\n",
       "  <thead>\n",
       "    <tr style=\"text-align: right;\">\n",
       "      <th></th>\n",
       "      <th>Date</th>\n",
       "      <th>Country</th>\n",
       "      <th>Location</th>\n",
       "      <th>Incident</th>\n",
       "      <th>Category</th>\n",
       "      <th>Numbers of Direct Deaths</th>\n",
       "      <th>Numbers of InDirect Deaths</th>\n",
       "      <th>INES level</th>\n",
       "      <th>Latitude</th>\n",
       "      <th>Longitude</th>\n",
       "    </tr>\n",
       "  </thead>\n",
       "  <tbody>\n",
       "    <tr>\n",
       "      <th>0</th>\n",
       "      <td>29/09/1957</td>\n",
       "      <td>Soviet Union</td>\n",
       "      <td>Mayak, Kyshtym</td>\n",
       "      <td>Kyshtym disaster</td>\n",
       "      <td>Storage/Handling</td>\n",
       "      <td>NaN</td>\n",
       "      <td>200.0</td>\n",
       "      <td>6.0</td>\n",
       "      <td>55.7131</td>\n",
       "      <td>60.8526</td>\n",
       "    </tr>\n",
       "    <tr>\n",
       "      <th>1</th>\n",
       "      <td>10/10/1957</td>\n",
       "      <td>United Kingdom</td>\n",
       "      <td>Sellafield, Cumberland</td>\n",
       "      <td>Windscale fire</td>\n",
       "      <td>Operational/Safety Measures</td>\n",
       "      <td>0.0</td>\n",
       "      <td>240.0</td>\n",
       "      <td>5.0</td>\n",
       "      <td>54.4167</td>\n",
       "      <td>-3.4833</td>\n",
       "    </tr>\n",
       "  </tbody>\n",
       "</table>\n",
       "</div>"
      ],
      "text/plain": [
       "         Date         Country                Location          Incident  \\\n",
       "0  29/09/1957    Soviet Union          Mayak, Kyshtym  Kyshtym disaster   \n",
       "1  10/10/1957  United Kingdom  Sellafield, Cumberland    Windscale fire   \n",
       "\n",
       "                      Category  Numbers of Direct Deaths  \\\n",
       "0             Storage/Handling                       NaN   \n",
       "1  Operational/Safety Measures                       0.0   \n",
       "\n",
       "   Numbers of InDirect Deaths  INES level  Latitude  Longitude  \n",
       "0                       200.0         6.0   55.7131    60.8526  \n",
       "1                       240.0         5.0   54.4167    -3.4833  "
      ]
     },
     "execution_count": 3,
     "metadata": {},
     "output_type": "execute_result"
    }
   ],
   "source": [
    "df_accidentes.rename(columns={\"Location \":\"Location\"}, inplace=True)\n",
    "df = df_accidentes.copy()\n",
    "df.insert(1, \"Country\", [location.split(\", \")[-1] for location in df['Location']])\n",
    "df[\"Location\"] = [location.split(\", \")[0:-1] for location in df['Location']]\n",
    "df[\"Location\"] = [\", \".join(location) for location in df['Location']]\n",
    "df.head(2)"
   ]
  },
  {
   "cell_type": "code",
   "execution_count": 4,
   "metadata": {},
   "outputs": [],
   "source": [
    "df[\"Date\"] = pd.to_datetime(df[\"Date\"], format = '%d/%m/%Y')"
   ]
  },
  {
   "cell_type": "code",
   "execution_count": 5,
   "metadata": {},
   "outputs": [],
   "source": [
    "df = df.fillna(value=0)"
   ]
  },
  {
   "cell_type": "code",
   "execution_count": 6,
   "metadata": {},
   "outputs": [],
   "source": [
    "df[\"Numbers of Direct Deaths\"] = df[\"Numbers of Direct Deaths\"].astype(\"int\")\n",
    "df[\"Numbers of InDirect Deaths\"] = df[\"Numbers of InDirect Deaths\"].astype(\"int\")\n",
    "df[\"INES level\"] = df[\"INES level\"].astype(\"int\")"
   ]
  },
  {
   "cell_type": "code",
   "execution_count": 7,
   "metadata": {},
   "outputs": [
    {
     "name": "stdout",
     "output_type": "stream",
     "text": [
      "<class 'pandas.core.frame.DataFrame'>\n",
      "RangeIndex: 28 entries, 0 to 27\n",
      "Data columns (total 10 columns):\n",
      " #   Column                      Non-Null Count  Dtype         \n",
      "---  ------                      --------------  -----         \n",
      " 0   Date                        28 non-null     datetime64[ns]\n",
      " 1   Country                     28 non-null     object        \n",
      " 2   Location                    28 non-null     object        \n",
      " 3   Incident                    28 non-null     object        \n",
      " 4   Category                    28 non-null     object        \n",
      " 5   Numbers of Direct Deaths    28 non-null     int32         \n",
      " 6   Numbers of InDirect Deaths  28 non-null     int32         \n",
      " 7   INES level                  28 non-null     int32         \n",
      " 8   Latitude                    28 non-null     float64       \n",
      " 9   Longitude                   28 non-null     float64       \n",
      "dtypes: datetime64[ns](1), float64(2), int32(3), object(4)\n",
      "memory usage: 2.0+ KB\n"
     ]
    }
   ],
   "source": [
    "df.info()"
   ]
  },
  {
   "cell_type": "code",
   "execution_count": 8,
   "metadata": {},
   "outputs": [],
   "source": [
    "df[\"Date\"] = df[\"Date\"].dt.year"
   ]
  },
  {
   "cell_type": "code",
   "execution_count": 9,
   "metadata": {},
   "outputs": [],
   "source": [
    "df = df.rename(columns={\"Date\":\"Year\"})"
   ]
  },
  {
   "cell_type": "markdown",
   "metadata": {},
   "source": [
    "### Ejercicio 1:\n",
    "* Muestra la cantidad de registros para cada país ('Country')."
   ]
  },
  {
   "cell_type": "code",
   "execution_count": 15,
   "metadata": {},
   "outputs": [
    {
     "data": {
      "text/plain": [
       "Country\n",
       "United States     13\n",
       "Japan              3\n",
       "Soviet Union       2\n",
       "United Kingdom     1\n",
       "Switzerland        1\n",
       "East Germany       1\n",
       "Czechoslovakia     1\n",
       "West Germany       1\n",
       "Spain              1\n",
       "Russia             1\n",
       "Hungary            1\n",
       "Sweden             1\n",
       "France             1\n",
       "Name: count, dtype: int64"
      ]
     },
     "execution_count": 15,
     "metadata": {},
     "output_type": "execute_result"
    }
   ],
   "source": [
    "df[\"Country\"].value_counts()"
   ]
  },
  {
   "cell_type": "code",
   "execution_count": 29,
   "metadata": {},
   "outputs": [
    {
     "data": {
      "text/plain": [
       "Country\n",
       "United States    13\n",
       "Japan             3\n",
       "Soviet Union      2\n",
       "Name: count, dtype: int64"
      ]
     },
     "execution_count": 29,
     "metadata": {},
     "output_type": "execute_result"
    }
   ],
   "source": [
    "reg_pais = df[\"Country\"].value_counts()\n",
    "reg_pais[reg_pais != 1]"
   ]
  },
  {
   "cell_type": "markdown",
   "metadata": {},
   "source": [
    "### Ejercicio 2:\n",
    "* Eliminar las columnas 'Longitude', 'Latitude' y 'Location' y mostrar las 2 primeras filas del Dataframe."
   ]
  },
  {
   "cell_type": "code",
   "execution_count": 30,
   "metadata": {},
   "outputs": [],
   "source": [
    "del df[\"Longitude\"]\n",
    "del df[\"Latitude\"]\n",
    "del df[\"Location\"]"
   ]
  },
  {
   "cell_type": "code",
   "execution_count": 31,
   "metadata": {},
   "outputs": [
    {
     "data": {
      "text/html": [
       "<div>\n",
       "<style scoped>\n",
       "    .dataframe tbody tr th:only-of-type {\n",
       "        vertical-align: middle;\n",
       "    }\n",
       "\n",
       "    .dataframe tbody tr th {\n",
       "        vertical-align: top;\n",
       "    }\n",
       "\n",
       "    .dataframe thead th {\n",
       "        text-align: right;\n",
       "    }\n",
       "</style>\n",
       "<table border=\"1\" class=\"dataframe\">\n",
       "  <thead>\n",
       "    <tr style=\"text-align: right;\">\n",
       "      <th></th>\n",
       "      <th>Year</th>\n",
       "      <th>Country</th>\n",
       "      <th>Incident</th>\n",
       "      <th>Category</th>\n",
       "      <th>Numbers of Direct Deaths</th>\n",
       "      <th>Numbers of InDirect Deaths</th>\n",
       "      <th>INES level</th>\n",
       "    </tr>\n",
       "  </thead>\n",
       "  <tbody>\n",
       "    <tr>\n",
       "      <th>0</th>\n",
       "      <td>1957</td>\n",
       "      <td>Soviet Union</td>\n",
       "      <td>Kyshtym disaster</td>\n",
       "      <td>Storage/Handling</td>\n",
       "      <td>0</td>\n",
       "      <td>200</td>\n",
       "      <td>6</td>\n",
       "    </tr>\n",
       "    <tr>\n",
       "      <th>1</th>\n",
       "      <td>1957</td>\n",
       "      <td>United Kingdom</td>\n",
       "      <td>Windscale fire</td>\n",
       "      <td>Operational/Safety Measures</td>\n",
       "      <td>0</td>\n",
       "      <td>240</td>\n",
       "      <td>5</td>\n",
       "    </tr>\n",
       "  </tbody>\n",
       "</table>\n",
       "</div>"
      ],
      "text/plain": [
       "   Year         Country          Incident                     Category  \\\n",
       "0  1957    Soviet Union  Kyshtym disaster             Storage/Handling   \n",
       "1  1957  United Kingdom    Windscale fire  Operational/Safety Measures   \n",
       "\n",
       "   Numbers of Direct Deaths  Numbers of InDirect Deaths  INES level  \n",
       "0                         0                         200           6  \n",
       "1                         0                         240           5  "
      ]
     },
     "execution_count": 31,
     "metadata": {},
     "output_type": "execute_result"
    }
   ],
   "source": [
    "df.head(2)"
   ]
  },
  {
   "cell_type": "markdown",
   "metadata": {},
   "source": [
    "### Ejercicio 3:\n",
    "* Muestra la cantidad de veces que se repiten los años en la columna 'Date'."
   ]
  },
  {
   "cell_type": "code",
   "execution_count": 33,
   "metadata": {},
   "outputs": [],
   "source": [
    "df_accidentes[\"Date\"] = pd.to_datetime(df_accidentes[\"Date\"],dayfirst=True)"
   ]
  },
  {
   "cell_type": "code",
   "execution_count": 35,
   "metadata": {},
   "outputs": [
    {
     "data": {
      "text/plain": [
       "Year\n",
       "1986    4\n",
       "1957    2\n",
       "1996    2\n",
       "1989    2\n",
       "1987    2\n",
       "2011    2\n",
       "1976    1\n",
       "1979    1\n",
       "1984    1\n",
       "1985    1\n",
       "1975    1\n",
       "1961    1\n",
       "1969    1\n",
       "1992    1\n",
       "1966    1\n",
       "1999    1\n",
       "2002    1\n",
       "2003    1\n",
       "2004    1\n",
       "2006    1\n",
       "Name: count, dtype: int64"
      ]
     },
     "execution_count": 35,
     "metadata": {},
     "output_type": "execute_result"
    }
   ],
   "source": [
    "df[\"Year\"].value_counts()"
   ]
  },
  {
   "cell_type": "code",
   "execution_count": 36,
   "metadata": {},
   "outputs": [
    {
     "data": {
      "text/plain": [
       "Year\n",
       "1986    4\n",
       "1957    2\n",
       "1996    2\n",
       "1989    2\n",
       "1987    2\n",
       "2011    2\n",
       "Name: count, dtype: int64"
      ]
     },
     "execution_count": 36,
     "metadata": {},
     "output_type": "execute_result"
    }
   ],
   "source": [
    "reg_year = df[\"Year\"].value_counts()\n",
    "reg_year[reg_year != 1]"
   ]
  },
  {
   "cell_type": "markdown",
   "metadata": {},
   "source": [
    "### Ejercicio 4:\n",
    "* Crea una nueva columna llamada 'Severity' que sea la suma de las columnas 'INES level' y 'Numbers of Direct Deaths'."
   ]
  },
  {
   "cell_type": "code",
   "execution_count": null,
   "metadata": {},
   "outputs": [],
   "source": [
    "# df[\"INES level\"] = df[\"INES level\"].fillna(0)\n",
    "# df[\"INES level\"] = df[\"INES level\"].astype(\"int\")\n",
    "# df[\"Numbers of Direct Deaths\"] = df[\"Numbers of Direct Deaths\"].fillna(0)\n",
    "# df[\"Numbers of Direct Deaths\"] = df[\"Numbers of Direct Deaths\"].astype(\"int\")\n",
    "# df[\"Numbers of InDirect Deaths\"] = df[\"Numbers of InDirect Deaths\"].fillna(0)\n",
    "# df[\"Numbers of InDirect Deaths\"] = df[\"Numbers of InDirect Deaths\"].astype(\"int\")\n"
   ]
  },
  {
   "cell_type": "code",
   "execution_count": 37,
   "metadata": {},
   "outputs": [],
   "source": [
    "df[\"Severity\"] = df[\"INES level\"] + df[\"Numbers of Direct Deaths\"]"
   ]
  },
  {
   "cell_type": "code",
   "execution_count": 39,
   "metadata": {},
   "outputs": [],
   "source": [
    "del df[\"Severity\"]"
   ]
  },
  {
   "cell_type": "markdown",
   "metadata": {},
   "source": [
    "### Ejercicio 5:\n",
    "* Crear un nuevo campo, que se denomine \"Total Deaths\", que guarde la sumatoria de las columnas 'Numbers of Direct Deaths' y 'Numbers of InDirect Deaths'. Informar el total de muertes para el incidente más grave (mayor 'Total Deaths')."
   ]
  },
  {
   "cell_type": "code",
   "execution_count": 44,
   "metadata": {},
   "outputs": [],
   "source": [
    "df.insert(6, \"Total Deaths\", df[\"Numbers of InDirect Deaths\"] + df[\"Numbers of Direct Deaths\"])"
   ]
  },
  {
   "cell_type": "code",
   "execution_count": 46,
   "metadata": {},
   "outputs": [
    {
     "data": {
      "text/html": [
       "<div>\n",
       "<style scoped>\n",
       "    .dataframe tbody tr th:only-of-type {\n",
       "        vertical-align: middle;\n",
       "    }\n",
       "\n",
       "    .dataframe tbody tr th {\n",
       "        vertical-align: top;\n",
       "    }\n",
       "\n",
       "    .dataframe thead th {\n",
       "        text-align: right;\n",
       "    }\n",
       "</style>\n",
       "<table border=\"1\" class=\"dataframe\">\n",
       "  <thead>\n",
       "    <tr style=\"text-align: right;\">\n",
       "      <th></th>\n",
       "      <th>Year</th>\n",
       "      <th>Country</th>\n",
       "      <th>Incident</th>\n",
       "      <th>Category</th>\n",
       "      <th>Numbers of Direct Deaths</th>\n",
       "      <th>Numbers of InDirect Deaths</th>\n",
       "      <th>Total Deaths</th>\n",
       "      <th>INES level</th>\n",
       "    </tr>\n",
       "  </thead>\n",
       "  <tbody>\n",
       "    <tr>\n",
       "      <th>0</th>\n",
       "      <td>1957</td>\n",
       "      <td>Soviet Union</td>\n",
       "      <td>Kyshtym disaster</td>\n",
       "      <td>Storage/Handling</td>\n",
       "      <td>0</td>\n",
       "      <td>200</td>\n",
       "      <td>200</td>\n",
       "      <td>6</td>\n",
       "    </tr>\n",
       "    <tr>\n",
       "      <th>1</th>\n",
       "      <td>1957</td>\n",
       "      <td>United Kingdom</td>\n",
       "      <td>Windscale fire</td>\n",
       "      <td>Operational/Safety Measures</td>\n",
       "      <td>0</td>\n",
       "      <td>240</td>\n",
       "      <td>240</td>\n",
       "      <td>5</td>\n",
       "    </tr>\n",
       "    <tr>\n",
       "      <th>2</th>\n",
       "      <td>1961</td>\n",
       "      <td>United States</td>\n",
       "      <td>SL-1 prototype explosion</td>\n",
       "      <td>Operator Error</td>\n",
       "      <td>3</td>\n",
       "      <td>0</td>\n",
       "      <td>3</td>\n",
       "      <td>4</td>\n",
       "    </tr>\n",
       "    <tr>\n",
       "      <th>3</th>\n",
       "      <td>1966</td>\n",
       "      <td>United States</td>\n",
       "      <td>Fermi 1 Reactor meltdown</td>\n",
       "      <td>Technical Flaws</td>\n",
       "      <td>0</td>\n",
       "      <td>0</td>\n",
       "      <td>0</td>\n",
       "      <td>4</td>\n",
       "    </tr>\n",
       "    <tr>\n",
       "      <th>4</th>\n",
       "      <td>1969</td>\n",
       "      <td>Switzerland</td>\n",
       "      <td>Loss-of-Coolant Accident (January 21, 1969)</td>\n",
       "      <td>Operator Error</td>\n",
       "      <td>0</td>\n",
       "      <td>0</td>\n",
       "      <td>0</td>\n",
       "      <td>4</td>\n",
       "    </tr>\n",
       "  </tbody>\n",
       "</table>\n",
       "</div>"
      ],
      "text/plain": [
       "   Year         Country                                     Incident  \\\n",
       "0  1957    Soviet Union                             Kyshtym disaster   \n",
       "1  1957  United Kingdom                               Windscale fire   \n",
       "2  1961   United States                     SL-1 prototype explosion   \n",
       "3  1966   United States                     Fermi 1 Reactor meltdown   \n",
       "4  1969     Switzerland  Loss-of-Coolant Accident (January 21, 1969)   \n",
       "\n",
       "                      Category  Numbers of Direct Deaths  \\\n",
       "0             Storage/Handling                         0   \n",
       "1  Operational/Safety Measures                         0   \n",
       "2               Operator Error                         3   \n",
       "3              Technical Flaws                         0   \n",
       "4               Operator Error                         0   \n",
       "\n",
       "   Numbers of InDirect Deaths  Total Deaths  INES level  \n",
       "0                         200           200           6  \n",
       "1                         240           240           5  \n",
       "2                           0             3           4  \n",
       "3                           0             0           4  \n",
       "4                           0             0           4  "
      ]
     },
     "execution_count": 46,
     "metadata": {},
     "output_type": "execute_result"
    }
   ],
   "source": [
    "df.head()"
   ]
  },
  {
   "cell_type": "code",
   "execution_count": 48,
   "metadata": {},
   "outputs": [
    {
     "name": "stdout",
     "output_type": "stream",
     "text": [
      "El total de muertes para el incidente más grave es de 4028\n"
     ]
    }
   ],
   "source": [
    "print(\"El total de muertes para el incidente más grave es de\", df[\"Total Deaths\"].max())"
   ]
  },
  {
   "cell_type": "markdown",
   "metadata": {},
   "source": [
    "### Ejercicio 6:\n",
    "* Mostrar la cantidad de incidentes nucleares en cada categoría ('Category')."
   ]
  },
  {
   "cell_type": "code",
   "execution_count": 49,
   "metadata": {},
   "outputs": [
    {
     "data": {
      "text/plain": [
       "Category\n",
       "Operator Error                          3\n",
       "Storage/Handling                        1\n",
       "Inspection Findings                     1\n",
       "Natural Disaster/Operational Failure    1\n",
       "Safety Systems Failure                  1\n",
       "Steam Explosion                         1\n",
       "Corrosion Cleaning                      1\n",
       "Corrosion                               1\n",
       "Operational/Safety Procedures           1\n",
       "Equipment Malfunction                   1\n",
       "Valve Leak                              1\n",
       "Equipment Rupture                       1\n",
       "Cooling System Failure                  1\n",
       "Malfunctions                            1\n",
       "Operational/Safety Measures             1\n",
       "Cooling Malfunctions                    1\n",
       "Equipment Failure                       1\n",
       "Experimental Operation                  1\n",
       "Design/Safety Procedures                1\n",
       "Equipment Problems                      1\n",
       "Instrumentation Malfunction             1\n",
       "Safety Violations/Design Problems       1\n",
       "Operator/Technical Flaws                1\n",
       "Electrical Error                        1\n",
       "Technical Flaws                         1\n",
       "Industrial Accident                     1\n",
       "Name: count, dtype: int64"
      ]
     },
     "execution_count": 49,
     "metadata": {},
     "output_type": "execute_result"
    }
   ],
   "source": [
    "df[\"Category\"].value_counts()"
   ]
  },
  {
   "cell_type": "code",
   "execution_count": 54,
   "metadata": {},
   "outputs": [
    {
     "data": {
      "text/plain": [
       "Category\n",
       "Operator Error    3\n",
       "Name: count, dtype: int64"
      ]
     },
     "execution_count": 54,
     "metadata": {},
     "output_type": "execute_result"
    }
   ],
   "source": [
    "reg_inc = df[\"Category\"].value_counts()\n",
    "reg_inc[reg_inc != 1]"
   ]
  },
  {
   "cell_type": "markdown",
   "metadata": {},
   "source": [
    "### Ejercicio 7:\n",
    "* Filtrar el DataFrame para mostrar solo los incidentes ocurridos en Estados Unidos ('Pais')."
   ]
  },
  {
   "cell_type": "code",
   "execution_count": 55,
   "metadata": {},
   "outputs": [
    {
     "data": {
      "text/html": [
       "<div>\n",
       "<style scoped>\n",
       "    .dataframe tbody tr th:only-of-type {\n",
       "        vertical-align: middle;\n",
       "    }\n",
       "\n",
       "    .dataframe tbody tr th {\n",
       "        vertical-align: top;\n",
       "    }\n",
       "\n",
       "    .dataframe thead th {\n",
       "        text-align: right;\n",
       "    }\n",
       "</style>\n",
       "<table border=\"1\" class=\"dataframe\">\n",
       "  <thead>\n",
       "    <tr style=\"text-align: right;\">\n",
       "      <th></th>\n",
       "      <th>Year</th>\n",
       "      <th>Country</th>\n",
       "      <th>Incident</th>\n",
       "      <th>Category</th>\n",
       "      <th>Numbers of Direct Deaths</th>\n",
       "      <th>Numbers of InDirect Deaths</th>\n",
       "      <th>Total Deaths</th>\n",
       "      <th>INES level</th>\n",
       "    </tr>\n",
       "  </thead>\n",
       "  <tbody>\n",
       "    <tr>\n",
       "      <th>2</th>\n",
       "      <td>1961</td>\n",
       "      <td>United States</td>\n",
       "      <td>SL-1 prototype explosion</td>\n",
       "      <td>Operator Error</td>\n",
       "      <td>3</td>\n",
       "      <td>0</td>\n",
       "      <td>3</td>\n",
       "      <td>4</td>\n",
       "    </tr>\n",
       "    <tr>\n",
       "      <th>3</th>\n",
       "      <td>1966</td>\n",
       "      <td>United States</td>\n",
       "      <td>Fermi 1 Reactor meltdown</td>\n",
       "      <td>Technical Flaws</td>\n",
       "      <td>0</td>\n",
       "      <td>0</td>\n",
       "      <td>0</td>\n",
       "      <td>4</td>\n",
       "    </tr>\n",
       "    <tr>\n",
       "      <th>7</th>\n",
       "      <td>1979</td>\n",
       "      <td>United States</td>\n",
       "      <td>Partial Core Meltdown (Operator Errors)</td>\n",
       "      <td>Operator/Technical Flaws</td>\n",
       "      <td>0</td>\n",
       "      <td>0</td>\n",
       "      <td>0</td>\n",
       "      <td>5</td>\n",
       "    </tr>\n",
       "    <tr>\n",
       "      <th>8</th>\n",
       "      <td>1984</td>\n",
       "      <td>United States</td>\n",
       "      <td>Browns Ferry Unit 2 Outage (Six-Year</td>\n",
       "      <td>Safety Violations/Design Problems</td>\n",
       "      <td>0</td>\n",
       "      <td>0</td>\n",
       "      <td>0</td>\n",
       "      <td>0</td>\n",
       "    </tr>\n",
       "    <tr>\n",
       "      <th>9</th>\n",
       "      <td>1985</td>\n",
       "      <td>United States</td>\n",
       "      <td>Browns Ferry Units Startup Malfunction</td>\n",
       "      <td>Instrumentation Malfunction</td>\n",
       "      <td>0</td>\n",
       "      <td>0</td>\n",
       "      <td>0</td>\n",
       "      <td>0</td>\n",
       "    </tr>\n",
       "    <tr>\n",
       "      <th>10</th>\n",
       "      <td>1986</td>\n",
       "      <td>United States</td>\n",
       "      <td>Pilgrim Nuclear Power Plant Emergency Shutdown</td>\n",
       "      <td>Equipment Problems</td>\n",
       "      <td>0</td>\n",
       "      <td>0</td>\n",
       "      <td>0</td>\n",
       "      <td>0</td>\n",
       "    </tr>\n",
       "    <tr>\n",
       "      <th>13</th>\n",
       "      <td>1986</td>\n",
       "      <td>United States</td>\n",
       "      <td>Surry Nuclear Power Plant pipe break</td>\n",
       "      <td>Equipment Failure</td>\n",
       "      <td>4</td>\n",
       "      <td>0</td>\n",
       "      <td>4</td>\n",
       "      <td>0</td>\n",
       "    </tr>\n",
       "    <tr>\n",
       "      <th>14</th>\n",
       "      <td>1987</td>\n",
       "      <td>United States</td>\n",
       "      <td>Peach Bottom units shutdown</td>\n",
       "      <td>Cooling Malfunctions</td>\n",
       "      <td>0</td>\n",
       "      <td>0</td>\n",
       "      <td>0</td>\n",
       "      <td>0</td>\n",
       "    </tr>\n",
       "    <tr>\n",
       "      <th>15</th>\n",
       "      <td>1987</td>\n",
       "      <td>United States</td>\n",
       "      <td>Niagara Mohawk Power Corporation shutdown</td>\n",
       "      <td>Malfunctions</td>\n",
       "      <td>0</td>\n",
       "      <td>0</td>\n",
       "      <td>0</td>\n",
       "      <td>0</td>\n",
       "    </tr>\n",
       "    <tr>\n",
       "      <th>16</th>\n",
       "      <td>1989</td>\n",
       "      <td>United States</td>\n",
       "      <td>Calvert Cliff Units extended shutdown</td>\n",
       "      <td>Inspection Findings</td>\n",
       "      <td>0</td>\n",
       "      <td>0</td>\n",
       "      <td>0</td>\n",
       "      <td>0</td>\n",
       "    </tr>\n",
       "    <tr>\n",
       "      <th>19</th>\n",
       "      <td>1996</td>\n",
       "      <td>United States</td>\n",
       "      <td>Millstone Nuclear Power Plant shutdown</td>\n",
       "      <td>Valve Leak</td>\n",
       "      <td>0</td>\n",
       "      <td>0</td>\n",
       "      <td>0</td>\n",
       "      <td>0</td>\n",
       "    </tr>\n",
       "    <tr>\n",
       "      <th>20</th>\n",
       "      <td>1996</td>\n",
       "      <td>United States</td>\n",
       "      <td>Crystal River Unit 3 shutdown</td>\n",
       "      <td>Equipment Malfunction</td>\n",
       "      <td>0</td>\n",
       "      <td>0</td>\n",
       "      <td>0</td>\n",
       "      <td>0</td>\n",
       "    </tr>\n",
       "    <tr>\n",
       "      <th>22</th>\n",
       "      <td>2002</td>\n",
       "      <td>United States</td>\n",
       "      <td>Davis-Besse reactor outage</td>\n",
       "      <td>Corrosion</td>\n",
       "      <td>0</td>\n",
       "      <td>0</td>\n",
       "      <td>0</td>\n",
       "      <td>3</td>\n",
       "    </tr>\n",
       "  </tbody>\n",
       "</table>\n",
       "</div>"
      ],
      "text/plain": [
       "    Year        Country                                        Incident  \\\n",
       "2   1961  United States                        SL-1 prototype explosion   \n",
       "3   1966  United States                        Fermi 1 Reactor meltdown   \n",
       "7   1979  United States         Partial Core Meltdown (Operator Errors)   \n",
       "8   1984  United States            Browns Ferry Unit 2 Outage (Six-Year   \n",
       "9   1985  United States          Browns Ferry Units Startup Malfunction   \n",
       "10  1986  United States  Pilgrim Nuclear Power Plant Emergency Shutdown   \n",
       "13  1986  United States            Surry Nuclear Power Plant pipe break   \n",
       "14  1987  United States                     Peach Bottom units shutdown   \n",
       "15  1987  United States       Niagara Mohawk Power Corporation shutdown   \n",
       "16  1989  United States           Calvert Cliff Units extended shutdown   \n",
       "19  1996  United States          Millstone Nuclear Power Plant shutdown   \n",
       "20  1996  United States                   Crystal River Unit 3 shutdown   \n",
       "22  2002  United States                      Davis-Besse reactor outage   \n",
       "\n",
       "                             Category  Numbers of Direct Deaths  \\\n",
       "2                      Operator Error                         3   \n",
       "3                     Technical Flaws                         0   \n",
       "7            Operator/Technical Flaws                         0   \n",
       "8   Safety Violations/Design Problems                         0   \n",
       "9         Instrumentation Malfunction                         0   \n",
       "10                 Equipment Problems                         0   \n",
       "13                  Equipment Failure                         4   \n",
       "14               Cooling Malfunctions                         0   \n",
       "15                       Malfunctions                         0   \n",
       "16                Inspection Findings                         0   \n",
       "19                         Valve Leak                         0   \n",
       "20              Equipment Malfunction                         0   \n",
       "22                          Corrosion                         0   \n",
       "\n",
       "    Numbers of InDirect Deaths  Total Deaths  INES level  \n",
       "2                            0             3           4  \n",
       "3                            0             0           4  \n",
       "7                            0             0           5  \n",
       "8                            0             0           0  \n",
       "9                            0             0           0  \n",
       "10                           0             0           0  \n",
       "13                           0             4           0  \n",
       "14                           0             0           0  \n",
       "15                           0             0           0  \n",
       "16                           0             0           0  \n",
       "19                           0             0           0  \n",
       "20                           0             0           0  \n",
       "22                           0             0           3  "
      ]
     },
     "execution_count": 55,
     "metadata": {},
     "output_type": "execute_result"
    }
   ],
   "source": [
    "df[df[\"Country\"] == \"United States\"]"
   ]
  },
  {
   "cell_type": "markdown",
   "metadata": {},
   "source": [
    "### Ejercicio 8:\n",
    "* Calcular la cantidad total de muertes directas por incidente nuclear para cada año."
   ]
  },
  {
   "cell_type": "code",
   "execution_count": 56,
   "metadata": {},
   "outputs": [
    {
     "data": {
      "text/plain": [
       "Year  Incident                                      \n",
       "1957  Kyshtym disaster                                   0\n",
       "      Windscale fire                                     0\n",
       "1961  SL-1 prototype explosion                           3\n",
       "1966  Fermi 1 Reactor meltdown                           0\n",
       "1969  Loss-of-Coolant Accident (January 21, 1969)        0\n",
       "1975  Greifswald Nuclear Power Plant fire                0\n",
       "1976  Fuel Rod Ejection during Fuel Replacement          2\n",
       "1979  Partial Core Meltdown (Operator Errors)            0\n",
       "1984  Browns Ferry Unit 2 Outage (Six-Year               0\n",
       "1985  Browns Ferry Units Startup Malfunction             0\n",
       "1986  Chernobyl disaster                                28\n",
       "      Pilgrim Nuclear Power Plant Emergency Shutdown     0\n",
       "      Surry Nuclear Power Plant pipe break               4\n",
       "      THTR-300 reactor                                   0\n",
       "1987  Niagara Mohawk Power Corporation shutdown          0\n",
       "      Peach Bottom units shutdown                        0\n",
       "1989  Calvert Cliff Units extended shutdown              0\n",
       "      Vandellòs nuclear power plant accident             0\n",
       "1992  Sosnovy Bor nuclear plant accident                 0\n",
       "1996  Crystal River Unit 3 shutdown                      0\n",
       "      Millstone Nuclear Power Plant shutdown             0\n",
       "1999  Tokaimura nuclear accident                         2\n",
       "2002  Davis-Besse reactor outage                         0\n",
       "2003  Paks Nuclear Power Plant fuel rod collapse         0\n",
       "2004  Mihama Nuclear Power Plant explosion               4\n",
       "2006  Forsmark Nuclear Power Plant electrical fault      0\n",
       "2011  Fukushima nuclear disaster                         4\n",
       "      Marcoule Nuclear Site blast                        1\n",
       "Name: Numbers of Direct Deaths, dtype: int32"
      ]
     },
     "execution_count": 56,
     "metadata": {},
     "output_type": "execute_result"
    }
   ],
   "source": [
    "df.groupby([\"Year\",\"Incident\"])[\"Numbers of Direct Deaths\"].sum()"
   ]
  },
  {
   "cell_type": "code",
   "execution_count": null,
   "metadata": {},
   "outputs": [],
   "source": []
  },
  {
   "cell_type": "code",
   "execution_count": 60,
   "metadata": {},
   "outputs": [
    {
     "data": {
      "text/plain": [
       "Year  Incident                                 \n",
       "1961  SL-1 prototype explosion                      3\n",
       "1976  Fuel Rod Ejection during Fuel Replacement     2\n",
       "1986  Chernobyl disaster                           28\n",
       "      Surry Nuclear Power Plant pipe break          4\n",
       "1999  Tokaimura nuclear accident                    2\n",
       "2004  Mihama Nuclear Power Plant explosion          4\n",
       "2011  Fukushima nuclear disaster                    4\n",
       "      Marcoule Nuclear Site blast                   1\n",
       "Name: Numbers of Direct Deaths, dtype: int32"
      ]
     },
     "execution_count": 60,
     "metadata": {},
     "output_type": "execute_result"
    }
   ],
   "source": [
    "df[df[\"Numbers of Direct Deaths\"]!=0].groupby([\"Year\",\"Incident\"])[\"Numbers of Direct Deaths\"].sum()"
   ]
  },
  {
   "cell_type": "code",
   "execution_count": 61,
   "metadata": {},
   "outputs": [
    {
     "data": {
      "text/plain": [
       "Year\n",
       "1961     3\n",
       "1976     2\n",
       "1986    32\n",
       "1999     2\n",
       "2004     4\n",
       "2011     5\n",
       "Name: Numbers of Direct Deaths, dtype: int32"
      ]
     },
     "execution_count": 61,
     "metadata": {},
     "output_type": "execute_result"
    }
   ],
   "source": [
    "df[df[\"Numbers of Direct Deaths\"]!=0].groupby(\"Year\")[\"Numbers of Direct Deaths\"].sum()"
   ]
  },
  {
   "cell_type": "code",
   "execution_count": 81,
   "metadata": {},
   "outputs": [
    {
     "data": {
      "text/plain": [
       "Year  Country         Incident                                 \n",
       "1986  Soviet Union    Chernobyl disaster                           28\n",
       "      United States   Surry Nuclear Power Plant pipe break          4\n",
       "2004  Japan           Mihama Nuclear Power Plant explosion          4\n",
       "2011  Japan           Fukushima nuclear disaster                    4\n",
       "1961  United States   SL-1 prototype explosion                      3\n",
       "1976  Czechoslovakia  Fuel Rod Ejection during Fuel Replacement     2\n",
       "1999  Japan           Tokaimura nuclear accident                    2\n",
       "2011  France          Marcoule Nuclear Site blast                   1\n",
       "Name: Numbers of Direct Deaths, dtype: int32"
      ]
     },
     "execution_count": 81,
     "metadata": {},
     "output_type": "execute_result"
    }
   ],
   "source": [
    "df[df[\"Numbers of Direct Deaths\"]!=0].groupby([\"Year\",\"Country\",\"Incident\"])[\"Numbers of Direct Deaths\"].sum().sort_values(ascending=False)"
   ]
  },
  {
   "cell_type": "markdown",
   "metadata": {},
   "source": [
    "### Ejercicio 9:\n",
    "* Mostrar la cantidad de incidentes nucleares en cada país ('Pais') en los que el nivel INES es mayor a 5."
   ]
  },
  {
   "cell_type": "code",
   "execution_count": 82,
   "metadata": {},
   "outputs": [
    {
     "data": {
      "text/plain": [
       "Country       Year  INES level\n",
       "Japan         2011  7             1\n",
       "Soviet Union  1957  6             1\n",
       "              1986  7             1\n",
       "dtype: int64"
      ]
     },
     "execution_count": 82,
     "metadata": {},
     "output_type": "execute_result"
    }
   ],
   "source": [
    "df[df[\"INES level\"]>5].groupby([\"Country\",\"Year\",\"INES level\"]).size()"
   ]
  },
  {
   "cell_type": "code",
   "execution_count": 83,
   "metadata": {},
   "outputs": [
    {
     "data": {
      "text/plain": [
       "Country         Year  INES level\n",
       "Japan           2011  7             1\n",
       "Soviet Union    1957  6             1\n",
       "                1986  7             1\n",
       "United Kingdom  1957  5             1\n",
       "United States   1979  5             1\n",
       "dtype: int64"
      ]
     },
     "execution_count": 83,
     "metadata": {},
     "output_type": "execute_result"
    }
   ],
   "source": [
    "df[df[\"INES level\"]>=5].groupby([\"Country\",\"Year\",\"INES level\"]).size()"
   ]
  },
  {
   "cell_type": "markdown",
   "metadata": {},
   "source": [
    "### Ejercicio 10:\n",
    "* Calcular la cantidad de muertes directas totales de Estados Unidos."
   ]
  },
  {
   "cell_type": "code",
   "execution_count": 84,
   "metadata": {},
   "outputs": [
    {
     "data": {
      "text/plain": [
       "7"
      ]
     },
     "execution_count": 84,
     "metadata": {},
     "output_type": "execute_result"
    }
   ],
   "source": [
    "df[df[\"Country\"]==\"United States\"][\"Numbers of Direct Deaths\"].sum()"
   ]
  },
  {
   "cell_type": "code",
   "execution_count": 87,
   "metadata": {},
   "outputs": [
    {
     "name": "stdout",
     "output_type": "stream",
     "text": [
      "United States -  Numbers of Direct Deaths    7\n",
      "dtype: int64\n"
     ]
    }
   ],
   "source": [
    "print(\"United States - \",df.loc[df[\"Country\"]==\"United States\",[\"Numbers of Direct Deaths\"]].sum())\n"
   ]
  },
  {
   "cell_type": "code",
   "execution_count": 88,
   "metadata": {},
   "outputs": [],
   "source": [
    "df.to_excel(\"nuclear.xlsx\")"
   ]
  },
  {
   "cell_type": "markdown",
   "metadata": {},
   "source": [
    "PARA PRACTICAR"
   ]
  },
  {
   "cell_type": "code",
   "execution_count": 94,
   "metadata": {},
   "outputs": [
    {
     "data": {
      "text/html": [
       "<div>\n",
       "<style scoped>\n",
       "    .dataframe tbody tr th:only-of-type {\n",
       "        vertical-align: middle;\n",
       "    }\n",
       "\n",
       "    .dataframe tbody tr th {\n",
       "        vertical-align: top;\n",
       "    }\n",
       "\n",
       "    .dataframe thead th {\n",
       "        text-align: right;\n",
       "    }\n",
       "</style>\n",
       "<table border=\"1\" class=\"dataframe\">\n",
       "  <thead>\n",
       "    <tr style=\"text-align: right;\">\n",
       "      <th></th>\n",
       "      <th>Country</th>\n",
       "      <th>Severity</th>\n",
       "      <th>Year</th>\n",
       "    </tr>\n",
       "  </thead>\n",
       "  <tbody>\n",
       "    <tr>\n",
       "      <th>1</th>\n",
       "      <td>United Kingdom</td>\n",
       "      <td>1</td>\n",
       "      <td>1957</td>\n",
       "    </tr>\n",
       "  </tbody>\n",
       "</table>\n",
       "</div>"
      ],
      "text/plain": [
       "          Country  Severity  Year\n",
       "1  United Kingdom         1  1957"
      ]
     },
     "execution_count": 94,
     "metadata": {},
     "output_type": "execute_result"
    }
   ],
   "source": [
    "# LLAMAR A LAS FILAS 4, 3 Y 1, Y LAS COLUMNAS COUNTRY Y YEAR (y severity que no existe), en ese orden\n",
    "\n",
    "df.reindex(index=[1], columns=[\"Country\",\"Severity\",\"Year\"],fill_value=1)"
   ]
  },
  {
   "cell_type": "code",
   "execution_count": 89,
   "metadata": {},
   "outputs": [
    {
     "data": {
      "text/plain": [
       "Country         Year  INES level\n",
       "Czechoslovakia  1976  4             1\n",
       "East Germany    1975  3             1\n",
       "France          2011  0             1\n",
       "Hungary         2003  3             1\n",
       "Japan           1999  4             1\n",
       "                2004  1             1\n",
       "                2011  7             1\n",
       "Russia          1992  0             1\n",
       "Soviet Union    1957  6             1\n",
       "                1986  7             1\n",
       "Spain           1989  3             1\n",
       "Sweden          2006  2             1\n",
       "Switzerland     1969  4             1\n",
       "United Kingdom  1957  5             1\n",
       "United States   1961  4             1\n",
       "                1966  4             1\n",
       "                1979  5             1\n",
       "                1984  0             1\n",
       "                1985  0             1\n",
       "                1986  0             2\n",
       "                1987  0             2\n",
       "                1989  0             1\n",
       "                1996  0             2\n",
       "                2002  3             1\n",
       "West Germany    1986  0             1\n",
       "dtype: int64"
      ]
     },
     "execution_count": 89,
     "metadata": {},
     "output_type": "execute_result"
    }
   ],
   "source": [
    "df.groupby([\"Country\",\"Year\",\"INES level\"]).size()"
   ]
  },
  {
   "cell_type": "code",
   "execution_count": 90,
   "metadata": {},
   "outputs": [
    {
     "data": {
      "text/plain": [
       "INES level  Year  Country       \n",
       "0           1984  United States        0\n",
       "            1985  United States        0\n",
       "            1986  United States        4\n",
       "                  West Germany         0\n",
       "            1987  United States        0\n",
       "            1989  United States        0\n",
       "            1992  Russia               0\n",
       "            1996  United States        0\n",
       "            2011  France               1\n",
       "1           2004  Japan                4\n",
       "2           2006  Sweden               0\n",
       "3           1975  East Germany         0\n",
       "            1989  Spain                0\n",
       "            2002  United States        0\n",
       "            2003  Hungary              0\n",
       "4           1961  United States        3\n",
       "            1966  United States        0\n",
       "            1969  Switzerland          0\n",
       "            1976  Czechoslovakia       2\n",
       "            1999  Japan                2\n",
       "5           1957  United Kingdom     240\n",
       "            1979  United States        0\n",
       "6           1957  Soviet Union       200\n",
       "7           1986  Soviet Union      4028\n",
       "            2011  Japan                4\n",
       "Name: Total Deaths, dtype: int32"
      ]
     },
     "execution_count": 90,
     "metadata": {},
     "output_type": "execute_result"
    }
   ],
   "source": [
    "df.groupby([\"INES level\",\"Year\",\"Country\"])[\"Total Deaths\"].sum()"
   ]
  },
  {
   "cell_type": "code",
   "execution_count": 91,
   "metadata": {},
   "outputs": [
    {
     "data": {
      "text/plain": [
       "Country         INES level\n",
       "Czechoslovakia  4                2\n",
       "East Germany    3                0\n",
       "France          0                1\n",
       "Hungary         3                0\n",
       "Japan           1                4\n",
       "                4                2\n",
       "                7                4\n",
       "Russia          0                0\n",
       "Soviet Union    6              200\n",
       "                7             4028\n",
       "Spain           3                0\n",
       "Sweden          2                0\n",
       "Switzerland     4                0\n",
       "United Kingdom  5              240\n",
       "United States   0                4\n",
       "                3                0\n",
       "                4                3\n",
       "                5                0\n",
       "West Germany    0                0\n",
       "Name: Total Deaths, dtype: int32"
      ]
     },
     "execution_count": 91,
     "metadata": {},
     "output_type": "execute_result"
    }
   ],
   "source": [
    "df.groupby([\"Country\",\"INES level\"])[\"Total Deaths\"].sum()"
   ]
  }
 ],
 "metadata": {
  "kernelspec": {
   "display_name": "Python 3",
   "language": "python",
   "name": "python3"
  },
  "language_info": {
   "codemirror_mode": {
    "name": "ipython",
    "version": 3
   },
   "file_extension": ".py",
   "mimetype": "text/x-python",
   "name": "python",
   "nbconvert_exporter": "python",
   "pygments_lexer": "ipython3",
   "version": "3.11.5"
  }
 },
 "nbformat": 4,
 "nbformat_minor": 2
}
